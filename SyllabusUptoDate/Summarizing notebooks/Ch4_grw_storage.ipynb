{
 "cells": [
  {
   "cell_type": "markdown",
   "metadata": {},
   "source": []
  },
  {
   "cell_type": "markdown",
   "metadata": {},
   "source": [
    "<div align=\"center\">\n",
    "\n",
    "# IHE Delft\n",
    "\n",
    "## Transient Groundwater Flow Course\n",
    "\n",
    "## Chapter 4: Reversible Groundwater Storage\n",
    "\n",
    "prof. dr.ir. T.N.Olsthoorn\n",
    "\n",
    "tolsthoorn@gmail.com\n",
    "\n",
    "Feb. 2025\n",
    "\n",
    "</div>"
   ]
  },
  {
   "cell_type": "markdown",
   "metadata": {},
   "source": [
    "In this course we'll only deal with reversible groundwater storage. Non-reversible forms like liquifaction, subsidence and to a lesser extent (over)extracting fresh water from aquifers that also contain salt water, are no longer regarded.\n",
    "\n",
    "There are two basis forms of reversible storage of groundwater, storage by filling and emptying of pores above the water table and compressing and decompressing water and the grain matrix throughout the full thickness of the aquifer. In a water table aquifer, both type of storage are active at the same time, however the storage by filling and emptying of pores is much more, usually  around 50 or  more time larger than the elastic storage. Therefore, in water table aquifers, we normally neglect the elastic storage component, but in reality and in a good numerical model both are present and act simultaneously."
   ]
  },
  {
   "cell_type": "markdown",
   "metadata": {},
   "source": [
    "## Water table storage (filling and emptying of pores)\n",
    "\n",
    "We call the storage coefficient of a water table aquifer the `specific yield`. This is the amount (volume) of water released from a 1 m2 (1 area unit) of the water table aquifer when the head, and, therefore, the position of the water table is lowered by 1 m (one length unit).\n",
    "\n",
    "You can think of the specific yield as the amount of water that freely drips from a bag of 1 m3 of saturated sand of soil when it's let to drip out freely by gravity. Clearly, not all water will drip out and therefore, specific yield is much smaller than the porosity of that sand. The the fraction of water still remaining is called specific retention. Specific retention plus specific yield make up the total  porosity of the sand or soil. In dry periods with deep water tables, so that capillary rise is negligible, plants suck from this water. But even after plants have sucked all the water from the soil to the extent that they start wilting, there is still a small fraction of water left in the sand. The specific retention minus the fraction of water still present after plants reached their wilting point, about equivalent a suction of 160 m of water , is called field capacity, which is the water available to plants after the water dripped out freely by gravity from the saturated sand.\n",
    "\n",
    "Because of cohesion between water and the sand or soil particles, water is sucked into dry pores above the water table. Notice, that the water table is by definition the level at which the pressure of teh water is equal to that of the atmosphere. Hence, it is the water level in a hole dug to below the water table. However, in the pores water rises to above that water table by cohesion. A layer of some thickness above the water table is even fully saturated. This layer is called the capillary fringe. And although the water in the capillary fringe flows exactly like the water below it, we neglect the thickness of the capillary fringe when we define the wetted thickness of our water table aquifer. The fringe is generally one to a few decimeters thick. Above the capillary fringe the sand or soil will only be partly saturated and, therefore also partly filled with air. The higher above the top of the capillary fringe, the lower the saturation, at least without recharge.\n",
    "\n",
    "<img src=\"./pictures/capillaryTubes.png\" width=\"500\">\n",
    "\n",
    "\n",
    "A simple mental model of the zone above the water table is a vertical bunch of straws with small but different inner diameters with their lower end in a bowl of water, the level of which representing the water table. In each straw the water will rise due to cohesion until the weight of the water column in the straw above the water matches the upward suction caused by cohesion:\n",
    "\n",
    "$$\\rho g h \\pi r^2 = 2 \\pi r \\gamma \\cos(\\alpha)$$\n",
    "\n",
    "so \n",
    "\n",
    "$$ h = \\frac{2 \\gamma}{\\rho  g r}\\cos(\\alpha)$$\n",
    "\n",
    "Becaus $\\alpha$ is small, even about zero for glass, we can neglect the cosine, and becaus the curved water table in which the tension equals the water tension, which equals $\\tau=75\\times10^{-3}$ N/m, we set $\\tau \\approx \\gamma$ and thus get a simple expression to estimate the rise of water in a pores of inner radius $r$\n",
    "\n",
    "$$ h\\approx\\frac{2 r}{\\rho g r}$$\n",
    "\n",
    "If we use mm instead of meters, and insert $\\tau=75\\times 10^{-6} N/mm$, we even get an expression as simple as\n",
    "$$ h \\approx \\frac{15}{r} \\,\\,\\mathtt{where\\,\\,now\\,\\,h\\,\\,and\\,\\,r\\,\\,are\\,\\,in\\,\\,mm\\,\\,instead\\,\\,of\\,\\,m!}$$\n"
   ]
  },
  {
   "cell_type": "markdown",
   "metadata": {},
   "source": [
    "When we estimate the pore radius to be about one seventh of the grain size we can estimate h for ordinary aquifer material, just to have an idea of capillary rise."
   ]
  },
  {
   "cell_type": "code",
   "execution_count": 2,
   "metadata": {},
   "outputs": [],
   "source": [
    "import numpy as np\n",
    "import matplotlib.pyplot as plt"
   ]
  },
  {
   "cell_type": "code",
   "execution_count": 13,
   "metadata": {},
   "outputs": [
    {
     "name": "stdout",
     "output_type": "stream",
     "text": [
      "d =        0.01,        0.1,          1,         10,        100,      1e+03  [mm]\n",
      "h =    1.05e+04,   1.05e+03,        105,       10.5,       1.05,      0.105  [mm]\n"
     ]
    }
   ],
   "source": [
    "d = np.logspace(-2, 3, 6) # mm\n",
    "h = 15 / (d / 7) # mm\n",
    "print(\"d = \", \", \".join([f\"{d_:10.3g}\" for d_ in d]), \" [mm]\")\n",
    "print(\"h = \", \", \".join([f\"{h_:10.3g}\" for h_ in h]), \" [mm]\")"
   ]
  },
  {
   "cell_type": "markdown",
   "metadata": {},
   "source": [
    "Because the matrix has a distribution of pores of different sizes, one can imagine that the water content at any height above the water table corresponds to the volume of pores that have a radius that permits the water to rise to a level above it. Hence, the larger the disnance above the water table, the lower the volume of pores with small enough radius as to reach the considered height above the water table. It is, therefore, to be expected that the water content above the water table has the shape of a profile."
   ]
  },
  {
   "cell_type": "markdown",
   "metadata": {},
   "source": [
    "As you can see, the profile depends on the type of soil, or rather, on the fineness of the grains of the soil. The finer the grains, the thicker is the full capillary zone and the higher is the profile (the higher the water can rise against gravity), the higher the specific retention and the smaller the specific yield.\n",
    "\n",
    "<img src=\"./pictures/moisture-profiles-different-soils.png\" width=\"500\">\n",
    "\n",
    "\n",
    "Another way of putting it is demonstrated with the next figure. It shows the total porosity as a function of grain size in a general sense. Fine textured soils tend  to have a higher total porosity as there is less the gravity force per grain is less to overcome the friction with adjacent particles during natural sedimentation, so the tend to reach a lower compaction in nature than do  coarser textured soils that have similar grain shapes. Of course, actual soils may differ from this general pattern, because there may be smaller particles filling the space between coarser ones, thus causing a lower total porosity, or the sediment may have been compressed (consolidated) by for geological processes or pores may have been particle filled by precipitation of minerals.\n",
    "\n",
    "<img src=\"./pictures/porosity-specific-yield-and-retention.png\" width=\"500\">\n",
    "\n",
    "This general picture also reveals that the specific retention is lower the larger the grains, i.e. the coarser the sediment and vice versa. The opposite is true for the specific yield. It  is larger for coarse sediments than for fine  sediments, because two two sum  up to almost the total porosity.\n",
    "\n",
    "A moisture profile also implies that when the water table is lowered, the entire profile moves downward along with the water table. Hence the water released from storage originates from the entire profile. A consequence of this is that for shallow water tables, the theoretical moisture profile extents to above ground surface. Lowering or rising the water table than misses the part of the profile extending above ground surface. This implies that the specific yield declines when the water table approaches ground surface, and that then a small rain shower may suddenly fill the entire soil to ground surface.\n",
    "\n",
    "\n",
    "<img src=\"./pictures/shallowMoistureProfilesBear72.png\" width=\"500\">\n",
    "\n",
    "There is a technique that measures the so-called air-entry pressure. This is the air pressure one has to put on a soil sample enough to just let the air pass through the sample. From the mental model of the unsaturated zone as a bunch of straws of different diameters, it follows that this air-entry pressure equals the pressure that is required to push the water columns down to the water table (where we have atmospheric pressure) in the coarsest pores. Therefore, the air-entry pressure corresponds one-to-one with the thickness of the thickness of the full capillary zone, the capillary fringe, if divided by $\\rho g$ to convert pressure to pressure head."
   ]
  },
  {
   "cell_type": "markdown",
   "metadata": {},
   "source": [
    "# Elastic storage\n",
    "\n",
    "## The loading and barometer efficiencies $L_E$ and $B_E$\n",
    "\n",
    "The elastic storage in a confined aquifer can be mentally envisioned by taking out a block of the aquifer and replace the elastic properties of the aquifer with two springs, one representing that of the water and the other representing that of the aquifer matrix. May may safely ignore the elastic compression of the grains themselves, because the individual grains are about two orders of magnitude less compressible than the grain matrix. The grain matrix deforms more easily because that deformation depends on the deformation around the contact points between the grains and not on the all-sided compression.\n",
    "\n",
    "![Block of aquifer replaced with springs](./pictures/CompressionTwoSprings.png)"
   ]
  },
  {
   "cell_type": "markdown",
   "metadata": {},
   "source": [
    "If a load weighing $\\Delta p$ is placed on ground surface, then the total pressure in the aquifer also increases by this amount to bear the total weight above it. However a certain fraction $L_E$ is supported by the increased pressure of the water $\\Delta\\sigma_w$ while the rest must then be supported by the increase of the effective pressure $\\Delta\\sigma_e$. Hence\n",
    "\n",
    "$$ \\Delta p = \\Delta \\sigma_w + \\Delta \\sigma_e$$\n",
    "\n",
    "where $\\Delta\\sigma_w = L_E \\,\\Delta p$ and the loading efficiency, a value between 0 and 1, is a property of the aquifer, caused by the ratio of the relative stiffness of the two springs, i.e that of the water and that of the grain skeleton.\n",
    "\n",
    "What happens if the load is caused by an increase of the barometer pressure $\\Delta p_a$ assuming that the magnitude of this is equal to $\\Delta p$? Because the grains and the water cannot sense the difference, the water pressure increases by the same amount as before. Hence\n",
    "\n",
    "$$\\Delta\\sigma_w = L_E \\, \\Delta p_a$$\n",
    "\n",
    "<img src=\"./pictures/Load_barometer.png\" width=\"500\">\n",
    "\n",
    "But what happens to the head, i.e. the water level in a piezometer that reaches into this confined aquifer? Before, with the load $\\Delta p$ was placed on ground surface, the pressure went up by $LE\\,\\Delta p$ and so the head in the piezometer also went up, by the following amount\n",
    "$$ \\Delta h = \\frac 1 {\\rho g} L_E \\, \\Delta p$$\n",
    "\n",
    "However, in the case the increased load is caused by the atmospheric pressure, this pressure also increases on the water surface in the piezometer. So the see what happens to the head, i.e. the water level in the piezometer, we just have to compute the increase of pressure at the bottom of the piezometer, which we know already, it's $L_E \\Delta p_a$, and express that in the change of level $\\Delta h$ of the water column in the piezometer and the change of barometric pressure $\\Delta p_a$ on the water surface in the piezomter:\n",
    "$$ L_E \\Delta p_a = \\frac 1 {\\rho g} \\Delta h + \\Delta p_a $$\n",
    "\n",
    "\n",
    "\n"
   ]
  },
  {
   "cell_type": "markdown",
   "metadata": {},
   "source": [
    "$$\\Delta h = - \\frac 1 {\\rho g} (1 - L_E) \\Delta p_a$$\n",
    "\n",
    "with $B_E = 1 - L_E$ where $B_E$ is the so-called barometer efficiency, we obtain\n",
    "\n",
    "$$\\Delta h = - \\frac 1 {\\rho g} B_E \\Delta p_a$$\n",
    "\n",
    "Notice that $B_E > 0$ and that\n",
    "$$ L_E + B_E = 1$$\n",
    "\n",
    "Also notice that when the barometer pressure rises, the water pressure in the aquifer rises by the amount $\\Delta \\sigma_w = L_E \\Delta p_a $, while the head declines as $\\Delta h = -\\rho g B_E \\Delta p_a$. Further notice that $\\Delta \\sigma_w = + L_E \\Delta p_a$ is wat is measured with a water-pressure logger in the piezometer and that $\\Delta h = -\\rho g B_E \\Delta p_a $ is what what you measure when to gauge the water level in the piezometer, what is known as measuring the head.\n",
    "\n",
    "Because groundwater is analyzed conveniently by heads, we generally look to convert the pressure-logger readings to heads, by subtracting the barometer pressure. Doing so we thus generate barometer-corrected \"heads\", name them \"$h_c$\" to differentiate with the hand-measured heads \"$h$\" to fill our dabase with.\n",
    "\n",
    "The correctly (hand-measured value) is\n",
    "\n",
    "$$ \\Delta h = -\\frac 1 {\\rho g} B_E \\Delta p_a$$\n",
    "\n",
    "while the barometer corrected head value \"$h_c$\" is obtained by subtracting the barometer pressure \\Delta p_a from the water pressure measurement $\\Delta  \\sigma_w$ of the water-pressure logger\n",
    "\n",
    "$$ \\rho g \\Delta h_c = \\Delta \\sigma_w - \\Delta p_a = L_E \\Delta p_a -\\Delta p_a = (L_E - 1) \\Delta p_a = - B_E \\Delta p_a$$\n",
    "\n",
    "And, therefore, the corrected head $h_c$ expressed in the true head $h$ and the change of the barometer pressure $\\Delta p_a$ then equals\n",
    "\n",
    "\n"
   ]
  },
  {
   "cell_type": "markdown",
   "metadata": {},
   "source": [
    "$$ \\Delta h_c - \\Delta  h = \\frac 1 {\\rho g} (-B_E \\Delta p_a + B_E \\Delta p_a) = 0.$$\n",
    "\n",
    "which shows that the correction of the recorded water pressure completely eliminates the effect of the barometer pressure variatons from the head. So the corrected head $h_c$ is not affected at all by variations of the barometer pressure. Notice however, that the hand meausurements of the head of piezometers in confined aquifers always do show an impact of variations of the barometer pressure!\n",
    "\n",
    "Further also notice that the same correction also eliminates any barometer pressure variations from water pressure recordings in piezomters installed in a water-table aquifer. But hand- measurements of the head in a water-table aquifer are never affected by the barometer, because the barometer pressure in such aquifers pressures everywhere on the water table, including in the piezometer itself.\n",
    "\n"
   ]
  },
  {
   "cell_type": "markdown",
   "metadata": {},
   "source": [
    "Expressing the elastic storage coefficient and the barometer and loading efficiencies in the compressibilities of the water $c_w$ and of the grain skeleton $c_s$.\n",
    "\n",
    "The water compressibility is the volume fraction decline caused by an increase of the water pressure by 1 N/$m^2$. The compressibility of the grain skeleton is volume fraction decline caused by the decrease of effective pressure $\\sigma_e$ by 1 N/$m^2$. Hence\n",
    "\n",
    "$$\n",
    "c_w = -\\frac 1 {V_w}\\frac {\\partial V_w}{\\partial \\sigma_w},\\,\\,\\,\\,\n",
    "\n",
    "c_s = -\\frac 1 {V_s}\\frac {\\partial V_s}{\\partial \\sigma_e},\\,\\,\\,\\,\\mathtt{[m^2/N] = [1/Pa]}\n",
    "$$\n",
    "\n",
    "and, as we already noted, the compressibility of the actual grains is ignored relative to that of the grain skeleton due to their stiffness compared to that of the grain skeleton as a whole. By the way, the compressibility of water is of the same order of magnitude as that of the grain skeleton, which is why both must be taken into account.\n",
    "\n",
    "Let's first deal with the elastic storage coefficient $S$. Consider a unit of plain aquifer surface area and then realize that when the aquifer is compressed uniformly, the surface surrounding the aquifer column stay put, because of symmetry conditions. Hence the volume only changes by a change of the aquifer thickness $D$, so $\\partial V_s = \\partial D$. Now imagine what happens if we connect a strong straw to this surface and want to store water in this volume by increasing the water pressure in the straw. How much water will then be stored. This will be, with $\\epsilon$ the porosity, i.e. the relative volume of water in the aquifer:\n",
    "\n",
    "$$ \\Delta V_w = \\epsilon D c_w \\Delta \\sigma_w - D c_s \\Delta \\sigma_e$$\n",
    "\n",
    "Notice that the minus sign of the term with $\\Delta \\sigma_e$ is because the volume of the aquifer skeleton is compressed (becomes smaller) when the effective or grain pressure $\\Delta \\sigma_e$ increases.\n",
    "\n",
    "If the pressure changes are caused by a change of the head, then the total pressure remains the same, hence in that case\n",
    "\n",
    "$$ \\Delta \\sigma_w + \\Delta \\sigma_e = 0$$\n",
    "\n",
    "so that\n",
    "\n",
    "$$ \\Delta V_w = D \\left[ \\epsilon c_w  + c_s \\right] \\Delta \\sigma_w$$\n",
    "\n",
    "or\n",
    "\n",
    "$$ \\Delta V_w = \\rho g D  \\left[ \\epsilon c_w  + c_s \\right] \\Delta h$$\n",
    "\n",
    "Therefore, the elastic storage coefficient $S$ of the aquifer equals\n",
    "\n",
    "$$ S = \\frac {\\Delta V_w}{\\Delta h} = D  S_s $$\n",
    "\n",
    "So that the specific storage coefficient $S_s$ expressed in the compressibilities of water and the aquifer matrix is\n",
    "\n",
    "$$ S_s = \\rho g  \\left( \\epsilon c_w  + c_s \\right)$$\n",
    "\n",
    "\n",
    "\n",
    "The elastic storage coefficient is the volume of water stored due to the rise of head $h$ by 1 m, or due to the rise of the water pressure $\\sigma_w$ by $\\rho g$ Pa\n",
    "\n"
   ]
  },
  {
   "cell_type": "markdown",
   "metadata": {},
   "source": [
    "## The $L_E$ and $B_E$ expressed in the porosity $\\epsilon$ and the two compressibilities $c_w$ and $c_r$\n",
    "\n",
    "To express the loading and barometer efficiencies $L_E$ and $B_E$ in the porosity $\\epsilon$ and the compressibilities of the water $c_w$ and of the aquifer's grain skeleton $c_s$, consider a load $\\Delta p$ placed on top of this confined aquifer.\n",
    "\n",
    "We then have a change of the total pressure $\\Delta p$ equal to\n",
    "\n",
    "$$\\Delta p = \\Delta \\sigma_w + \\Delta \\sigma_e$$\n",
    "\n",
    "Because of symmetry ($\\Delta p$ is placed over the entire aquifer so the pressure changes in the aquifer are also uniform), if follows that the change of water volume $\\Delta V_W$ equals the change of the volume of the grain skeleton $\\Delta V_s$ = $\\Delta D$, of the thickness of the aquifer.\n",
    "\n",
    "The water volume declines due to a compression of the water caused by the load on the aquifer, which changes (increase) the water pressure by $\\Delta \\sigma_w$. Note that the volume of water is $\\epsilon D$\n",
    "\n",
    " $$\\Delta V_W = -\\epsilon D c_w \\Delta \\sigma_w$$\n",
    "\n",
    "Likewise, the volume of the grain skeleton reduces due to the compression caused by the load $\\Delta p$ on the aquifer causing an increase of the effective pressure $\\Delta \\sigma_e$\n",
    "\n",
    " $$\\Delta V_s = -D c_s \\Delta \\sigma_e $$\n",
    "\n",
    " However, $\\Delta V_W = \\Delta V_s$ so that\n",
    "\n",
    " $$ \\epsilon c_w \\Delta \\sigma_w = c_s \\Delta \\sigma_e$$\n",
    "\n",
    " And because $\\Delta \\sigma_w = L_E \\Delta p$, so that $\\Delta \\sigma_e = (1 - L_E) \\Delta p$, we get\n",
    "\n",
    " $$ \\epsilon c_w L_E \\Delta p = c_s (1 - LE) \\Delta p$$\n",
    "\n",
    " So that $\\Delta p$ drops out and $L_E$ can be expressed in the two compressibilities $\\epsilon c_w$ and $c_s$.\n",
    " \n",
    "Hence\n",
    "\n",
    " $$ L_E = \\frac {c_s}{\\epsilon c_w + c_s}$$\n",
    "\n",
    "and, because $L_E + B_E = 1$\n",
    "\n",
    "$$ B_E = \\frac{\\epsilon c_w}{\\epsilon c_w + c_s}$$\n",
    "\n",
    "From the formulas it follows that the water is infinitely stiff, i.e. $c_r = 0$, the loading efficiency will be 1, so that the water carries all the increased load. On the other hand, if the grain skeleton were infinitely stiff, i.e. $c_s = 0$, the grain skeleton would carry the entire load $\\Delta p$.\n"
   ]
  },
  {
   "cell_type": "markdown",
   "metadata": {},
   "source": [
    "This concludes the theory of the elastic aquifer storage. In practice, the water compressibility is know from water physics and can be looked up. Further, the barometer efficiency can be found from the raw water pressure recordings and the published data or measurements of the atmospheric pressure. This allows us to determine the compressibility of the grain skeleton of the aquifer from available data, without having to drill to get cuttings from the aquifer and then determine the skeleton compressibility in the lab (by the way using disturbed samples)."
   ]
  },
  {
   "cell_type": "markdown",
   "metadata": {},
   "source": [
    "# Exploratory example\n",
    "\n",
    "The compressibility of water is\n",
    "\n",
    "$$c_w \\approx 4.4\\times 10^{-10} / Pa $$\n",
    "\n",
    "or $c_w \\approx 4.4 \\times 10^{-6} / m$ when expressed in m head.\n",
    "\n",
    "When the $B_E$ is obtained from water pressure recordings and found to be 75%, then we have\n",
    "\n",
    "$$c_s = (1 - B_E) \\epsilon c_w = 0.25 \\epsilon c_w$$\n",
    "\n",
    "<img src=\"./pictures/ToddBarometerGraph.png\" width=\"500\">\n",
    "\n",
    "So we can say that the compressibility of the grain skeleton is 25% of the water in the aquifer, $\\epsilon c_w$.\n",
    "\n",
    "The specific storage coefficient $S_S$ then becomes in this case\n",
    "\n",
    "$$ S_S = \\rho g (\\epsilon c_w + c_s) = \\rho g (1 + 0.25) \\epsilon c_w=1.25 \\epsilon c_w$$\n",
    "\n",
    "So, the storage coefficient is still proportional to the porosity. Let's assume the porosity in this aquifer is $\\epsilon = 0.3$, then\n",
    "\n",
    "$$ S_S = 1.25 \\times 0.3 \\,\\, \\rho g \\,\\, 4.4\\times10^{-10} = 1.65 \\times 10^{-6} / m$$\n",
    "\n",
    "If the aquifer were 100 m thick than it would have an elastic storage coefficient equal to\n",
    "\n",
    "$$S_{D=100 m} \\approx 1.65\\times10^{-4} \\,\\,\\mathtt{[-]}"
   ]
  },
  {
   "cell_type": "markdown",
   "metadata": {},
   "source": [
    "In the Netherlands, we often encounter confined aquifer elastic storage coefficients in the order of $S\\approx 10^{-3}$, which is about 5 times as large as in this example. This would imply that the aquifer skeletons in the Netherlands tend to be substantially softer (larger $c_s$) than in this example, which is an example that comes from the first ever recordings of the barometer efficiency, in the USA around 1930.\n",
    "\n",
    "To compare the softness of the  water versus that of the grain skeleton, we may write $c_s = \\alpha c_w$, considering $\\alpha$ as the softness factor for the grain skeleton compared to the water.\n",
    "\n",
    "$$ S_S = \\rho g (\\epsilon + \\alpha) c_w$$\n",
    "\n",
    "$$ \\epsilon + \\alpha = \\frac {S_S}{c_w \\rho g} = \\frac {S_S}{4.4\\times10^{-6}} \\approx 2\\times10^6 S_S$$\n",
    "\n",
    "Hence, in practice\n",
    "\n",
    "$$\\epsilon + \\alpha  \\approx 2 \\times 10^{6} S_S$$\n",
    "\n",
    "For $S_S = 10^{-5}$ /m for instance,\n",
    "\n",
    "$$\\epsilon + \\alpha  \\approx 20$$\n",
    "\n",
    "Because the porosity $\\epsilon$ is around 0.3, if follows that for the Dutch aquifers, the aquifer skeleton is indeed around 20 times as soft (i.e. as compressible) as the water.\n",
    "\n",
    "The barometer efficiency $B_E$, would then be extremely small. We see this by writing $c_s = \\alpha c_w$, which yields\n",
    "$$ B_E = \\frac{\\epsilon}{\\epsilon + \\alpha} = \\frac{0.3}{0.3 + 20} \\approx 0.01$$\n",
    "\n",
    "Which is practically negligible. Hence, for the barometer effect to be seen in the course of the head in the confined aquifer, the aquifer skeleton must be sufficiently hard. In fact, it's obvious, that when the confined aquifer skeleton is very soft, the aquifer water pressure will take the full barometric pressure and will thus behave exactly like a water table aquifer from the point of view of the barometer effect.\n",
    "\n",
    "Of course, we can easily find the ratio of the softness of the grain skeleton $c_s$ and $\\epsilon c_w$ by dividing the $L_E$ over the $B_E$\n",
    "\n",
    "$$\\frac {L_E}{B_E} = \\frac{c_s}{\\epsilon c_w} = \\frac{L_E}{1 - L_E}=\\frac{1 - B_E}{B_E}$$"
   ]
  },
  {
   "cell_type": "markdown",
   "metadata": {},
   "source": [
    "## Leaky or semi-confined aquifers\n",
    "\n",
    "The theory given above is also valid for semi-confined aquifers.However, as soon as the barometer pressure say increase by $\\Delta p_a$, the full $\\Delta p_a$ on the water aquifer will be felt in the water on top of the first aquitard, where we then have $\\Delta \\sigma_w \\approx \\Delta p_a$. However, below this aquitard the water pressure increases by only $\\Delta \\sigma_w = L_E\\Delta p_a$. A head difference is thus created across the aquitard, so that water starts leaking through the aquitard which will deminish this head difference over time. It well then depend on the rate of change of the barometer pressure compared to the rate of change of pressure in the aquier due to leakage, to what extent and for how long the barometer pressure changes can be seen in the time series of the registered water pressures. Is is possible to make an analysis of that as well, but this is considered beyond the current subject."
   ]
  },
  {
   "cell_type": "markdown",
   "metadata": {},
   "source": [
    "----"
   ]
  }
 ],
 "metadata": {
  "kernelspec": {
   "display_name": "transient",
   "language": "python",
   "name": "transient"
  },
  "language_info": {
   "codemirror_mode": {
    "name": "ipython",
    "version": 3
   },
   "file_extension": ".py",
   "mimetype": "text/x-python",
   "name": "python",
   "nbconvert_exporter": "python",
   "pygments_lexer": "ipython3",
   "version": "3.12.2"
  }
 },
 "nbformat": 4,
 "nbformat_minor": 2
}
