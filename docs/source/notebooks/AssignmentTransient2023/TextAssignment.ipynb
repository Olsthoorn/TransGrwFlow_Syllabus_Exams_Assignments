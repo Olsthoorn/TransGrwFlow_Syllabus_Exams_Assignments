{
 "cells": [
  {
   "attachments": {},
   "cell_type": "markdown",
   "metadata": {},
   "source": [
    "# IHE Delft\n",
    "## Assigment module Transient Groundwater Flow\n",
    "\n",
    "## Feb 2023\n",
    "\n",
    "Prof. dr.ir. T.N.Olsthoorn\n",
    "\n",
    "19 Feb 2023\n",
    "\n",
    "# Introduction\n",
    "\n",
    "Consider a water-table aquifer with fixed $kD$ and specific yield $S$ in a land, 3 km wide, bounded by straight rivers and or impervious rock boundaries as shown in the pictures in the accompanying PowerPoint file. The thickness of the aquifer is $D=30$ m and can be considered constant. A new pumping station for drinking water production is installed consiting of the wells as indicated in the picture, each extracting 600 m3/d from $t=0$.\n",
    "\n",
    "The transmissivity $kD$ and storage coefficient $S$ (i.e. specific yield) are to be determined from a pumping test of which data measurements are given in the accompanying Excel file.\n",
    "\n",
    "Notice that each participant has a somewhat different situation and different pumping test data. The pumping tests have been one with one of the final wells at an extraction rate of 900 m3/d.\n",
    "\n",
    "# Questions\n",
    "\n",
    "1. Select your situation and data from the PowerPoint and Excel files. The pictures and data sets for each participant are indicated by participant number which are associated with participant names in the Excel file.\n",
    "\n",
    "2. Determine the transmissivity and the storage coefficient (specific yield) from the pumping test. Each test was done using 3 obsevation wells at distances 10, 20 and 30 m as indicated in the Excel file. The times are given in days and the drawdowns in m.\n",
    "\n",
    "3. Use the obtained $kD$ and $S$ for the questions below, which refer to the entire well field.\n",
    "\n",
    "4. Consider that the river stage (=its water level) along line C-D will fluctuate according to the $sine$ function by 2.5 m up and 2.5 m down during the year. Compute the maximum and minimum total inflow from the river due to this fluctuation. (If there is a river perpendicular to C-D, ignore it for this question).\n",
    "\n",
    "5. What is the half-time for the natural drainage of this strip of land?\n",
    "\n",
    "6. The further questions refer to the entire well field (ignoring fluctuations of the river stage).\n",
    "\n",
    "7. Make a graph of the drawdown on along the line A-B to the wells for times t=30,300,3000,30000 days.\n",
    "\n",
    "8. Compute and show the inflow along the river, line C-D, at t=300 days.\n",
    "\n",
    "9. Compute the total flow from this river at $t=300$ days.\n",
    "\n",
    "10. Compute and show the groundwater flow pattern at $t=300$ days.\n",
    "\n",
    "\n",
    "# Accompanying files\n",
    "\n",
    "FigsAssignment2023.pptx   -- Situation pictures (one for each participant)\n",
    "\n",
    "DataAssignment2023.xlsx   -- Data (one data set for each participant)"
   ]
  },
  {
   "cell_type": "markdown",
   "metadata": {},
   "source": []
  }
 ],
 "metadata": {
  "language_info": {
   "name": "python"
  },
  "orig_nbformat": 4
 },
 "nbformat": 4,
 "nbformat_minor": 2
}
